{
 "cells": [
  {
   "cell_type": "code",
   "execution_count": 322,
   "id": "36129284",
   "metadata": {},
   "outputs": [],
   "source": [
    "    import pandas as pd\n",
    "    import sklearn.tree as tree\n",
    "    from sklearn.tree import DecisionTreeClassifier\n",
    "    \n",
    "    data = pd.read_csv('music.csv')\n",
    "    a = data.drop(columns=['genre'])\n",
    "    b = data['genre']\n",
    "    \n",
    "    model = DecisionTreeClassifier()\n",
    "    model.fit(a, b)\n",
    "    \n",
    "    tree.export_graphviz(model, out_file='music-chooser.dot',\n",
    "                        feature_names=['age', 'gender'],\n",
    "                        class_names=sorted(b.unique()),\n",
    "                        label='all',\n",
    "                         rounded=True,\n",
    "                         filled=False\n",
    "                        )"
   ]
  },
  {
   "cell_type": "code",
   "execution_count": 320,
   "id": "4d25cc6c",
   "metadata": {},
   "outputs": [
    {
     "data": {
      "text/plain": [
       "1.0"
      ]
     },
     "execution_count": 320,
     "metadata": {},
     "output_type": "execute_result"
    }
   ],
   "source": [
    "import pandas as pd\n",
    "from sklearn.tree import DecisionTreeClassifier\n",
    "from sklearn.model_selection import train_test_split\n",
    "from sklearn.metrics import accuracy_score\n",
    "import joblib\n",
    "\n",
    "musicdata = pd.read_csv('music.csv')\n",
    "f = musicdata.drop(columns=['genre'])\n",
    "l = musicdata['genre']\n",
    "f_train, f_test, l_train, l_test = train_test_split(f, l, test_size=0.3)\n",
    "\n",
    "model = joblib.load('music_model.joblib')\n",
    "predictions = model.predict(f_test)\n",
    "ac_score = accuracy_score(predictions, l_test)\n",
    "ac_score"
   ]
  }
 ],
 "metadata": {
  "kernelspec": {
   "display_name": "Python 3 (ipykernel)",
   "language": "python",
   "name": "python3"
  },
  "language_info": {
   "codemirror_mode": {
    "name": "ipython",
    "version": 3
   },
   "file_extension": ".py",
   "mimetype": "text/x-python",
   "name": "python",
   "nbconvert_exporter": "python",
   "pygments_lexer": "ipython3",
   "version": "3.10.7"
  }
 },
 "nbformat": 4,
 "nbformat_minor": 5
}
