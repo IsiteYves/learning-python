{
 "cells": [
  {
   "cell_type": "code",
   "execution_count": 133,
   "id": "36129284",
   "metadata": {},
   "outputs": [
    {
     "name": "stderr",
     "output_type": "stream",
     "text": [
      "C:\\Users\\IT ZONE LTD\\AppData\\Local\\Programs\\Python\\Python310\\lib\\site-packages\\sklearn\\base.py:450: UserWarning: X does not have valid feature names, but DecisionTreeClassifier was fitted with feature names\n",
      "  warnings.warn(\n"
     ]
    },
    {
     "data": {
      "text/plain": [
       "array(['Classical', 'Dance'], dtype=object)"
      ]
     },
     "execution_count": 133,
     "metadata": {},
     "output_type": "execute_result"
    }
   ],
   "source": [
    "    import pandas as pd\n",
    "    from sklearn.tree import DecisionTreeClassifier\n",
    "    \n",
    "    data = pd.read_csv('music.csv')\n",
    "    a = data.drop(columns=['genre'])\n",
    "    b = data['genre']\n",
    "    \n",
    "    model = DecisionTreeClassifier()\n",
    "    model.fit(a, b)\n",
    "    predictions = model.predict([ [40, 1], [8, 0] ])\n",
    "    predictions"
   ]
  },
  {
   "cell_type": "code",
   "execution_count": 130,
   "id": "55513dc0",
   "metadata": {},
   "outputs": [
    {
     "data": {
      "text/plain": [
       "0.36363636363636365"
      ]
     },
     "execution_count": 130,
     "metadata": {},
     "output_type": "execute_result"
    }
   ],
   "source": [
    "import pandas as pd\n",
    "from sklearn.tree import DecisionTreeClassifier\n",
    "from sklearn.model_selection import train_test_split\n",
    "from sklearn.metrics import accuracy_score\n",
    "# from sklearn.externals import joblib\n",
    "\n",
    "musicdata = pd.read_csv('music.csv')\n",
    "f = musicdata.drop(columns=['genre'])\n",
    "l = musicdata['genre']\n",
    "f_train, f_test, l_train, l_test = train_test_split(f, l, test_size=0.6)\n",
    "\n",
    "model = DecisionTreeClassifier()\n",
    "model.fit(f_train, l_train)\n",
    "predictions = model.predict(f_test)\n",
    "ac_score = accuracy_score(predictions, l_test)\n",
    "ac_score"
   ]
  }
 ],
 "metadata": {
  "kernelspec": {
   "display_name": "Python 3 (ipykernel)",
   "language": "python",
   "name": "python3"
  },
  "language_info": {
   "codemirror_mode": {
    "name": "ipython",
    "version": 3
   },
   "file_extension": ".py",
   "mimetype": "text/x-python",
   "name": "python",
   "nbconvert_exporter": "python",
   "pygments_lexer": "ipython3",
   "version": "3.10.7"
  }
 },
 "nbformat": 4,
 "nbformat_minor": 5
}
